{
 "cells": [
  {
   "cell_type": "code",
   "execution_count": 1,
   "metadata": {},
   "outputs": [],
   "source": [
    "# Read the general DTS and save the taxonomy schema to PostgreSQL\n",
    "from hibachiPostgreSQL import ReadAllGeneralDTSPathesInPostgre # For getting file general DTS pathes\n",
    "from hibachixbrl import HibachiXmlElement, HibachiETtree\n",
    "import pandas as pd\n",
    "import sys\n",
    "import os"
   ]
  },
  {
   "cell_type": "code",
   "execution_count": 2,
   "metadata": {},
   "outputs": [
    {
     "ename": "UnboundLocalError",
     "evalue": "local variable 'connection' referenced before assignment",
     "output_type": "error",
     "traceback": [
      "\u001b[1;31m---------------------------------------------------------------------------\u001b[0m",
      "\u001b[1;31mException\u001b[0m                                 Traceback (most recent call last)",
      "\u001b[1;32m~\\OneDrive\\Documents\\HibachiProjects\\Hibachi_2021\\HibachiFinancials\\hibachiPostgreSQL\\ReadAllGeneralDTSPathesInPostgre.py\u001b[0m in \u001b[0;36mgeneralDTSPathes\u001b[1;34m()\u001b[0m\n\u001b[0;32m     20\u001b[0m     \u001b[1;32mexcept\u001b[0m \u001b[1;33m(\u001b[0m\u001b[0mException\u001b[0m\u001b[1;33m,\u001b[0m \u001b[0mpsycopg2\u001b[0m\u001b[1;33m.\u001b[0m\u001b[0mError\u001b[0m\u001b[1;33m)\u001b[0m \u001b[1;32mas\u001b[0m \u001b[0merror\u001b[0m\u001b[1;33m:\u001b[0m\u001b[1;33m\u001b[0m\u001b[1;33m\u001b[0m\u001b[0m\n\u001b[1;32m---> 21\u001b[1;33m         \u001b[1;32mraise\u001b[0m\u001b[1;33m(\u001b[0m\u001b[0merror\u001b[0m\u001b[1;33m)\u001b[0m\u001b[1;33m\u001b[0m\u001b[1;33m\u001b[0m\u001b[0m\n\u001b[0m\u001b[0;32m     22\u001b[0m \u001b[1;33m\u001b[0m\u001b[0m\n",
      "\u001b[1;32m~\\OneDrive\\Documents\\HibachiProjects\\Hibachi_2021\\HibachiFinancials\\hibachiPostgreSQL\\ReadAllGeneralDTSPathesInPostgre.py\u001b[0m in \u001b[0;36mgeneralDTSPathes\u001b[1;34m()\u001b[0m\n\u001b[0;32m     10\u001b[0m         \u001b[1;31m# read connection parameters\u001b[0m\u001b[1;33m\u001b[0m\u001b[1;33m\u001b[0m\u001b[1;33m\u001b[0m\u001b[0m\n\u001b[1;32m---> 11\u001b[1;33m         \u001b[0mparams\u001b[0m \u001b[1;33m=\u001b[0m \u001b[0mconfig\u001b[0m\u001b[1;33m(\u001b[0m\u001b[1;33m)\u001b[0m\u001b[1;33m\u001b[0m\u001b[1;33m\u001b[0m\u001b[0m\n\u001b[0m\u001b[0;32m     12\u001b[0m \u001b[1;33m\u001b[0m\u001b[0m\n",
      "\u001b[1;32m~\\OneDrive\\Documents\\HibachiProjects\\Hibachi_2021\\HibachiFinancials\\config.py\u001b[0m in \u001b[0;36mconfig\u001b[1;34m(filename, section)\u001b[0m\n\u001b[0;32m     17\u001b[0m     \u001b[1;32melse\u001b[0m\u001b[1;33m:\u001b[0m\u001b[1;33m\u001b[0m\u001b[1;33m\u001b[0m\u001b[0m\n\u001b[1;32m---> 18\u001b[1;33m         \u001b[1;32mraise\u001b[0m \u001b[0mException\u001b[0m\u001b[1;33m(\u001b[0m\u001b[1;34m'Section {0} not found in the {1} file'\u001b[0m\u001b[1;33m.\u001b[0m\u001b[0mformat\u001b[0m\u001b[1;33m(\u001b[0m\u001b[0msection\u001b[0m\u001b[1;33m,\u001b[0m \u001b[0mfilename\u001b[0m\u001b[1;33m)\u001b[0m\u001b[1;33m)\u001b[0m\u001b[1;33m\u001b[0m\u001b[1;33m\u001b[0m\u001b[0m\n\u001b[0m\u001b[0;32m     19\u001b[0m \u001b[1;33m\u001b[0m\u001b[0m\n",
      "\u001b[1;31mException\u001b[0m: Section postgresql not found in the database.ini file",
      "\nDuring handling of the above exception, another exception occurred:\n",
      "\u001b[1;31mUnboundLocalError\u001b[0m                         Traceback (most recent call last)",
      "\u001b[1;32m<ipython-input-2-717ecc572316>\u001b[0m in \u001b[0;36m<module>\u001b[1;34m\u001b[0m\n\u001b[0;32m      1\u001b[0m \u001b[1;31m# Get all the general DTS file pathes saved in PostgreSQL\u001b[0m\u001b[1;33m\u001b[0m\u001b[1;33m\u001b[0m\u001b[1;33m\u001b[0m\u001b[0m\n\u001b[1;32m----> 2\u001b[1;33m \u001b[0mdf_DTSPathes\u001b[0m \u001b[1;33m=\u001b[0m \u001b[0mReadAllGeneralDTSPathesInPostgre\u001b[0m\u001b[1;33m.\u001b[0m\u001b[0mgeneralDTSPathes\u001b[0m\u001b[1;33m(\u001b[0m\u001b[1;33m)\u001b[0m\u001b[1;33m\u001b[0m\u001b[1;33m\u001b[0m\u001b[0m\n\u001b[0m",
      "\u001b[1;32m~\\OneDrive\\Documents\\HibachiProjects\\Hibachi_2021\\HibachiFinancials\\hibachiPostgreSQL\\ReadAllGeneralDTSPathesInPostgre.py\u001b[0m in \u001b[0;36mgeneralDTSPathes\u001b[1;34m()\u001b[0m\n\u001b[0;32m     23\u001b[0m     \u001b[1;32mfinally\u001b[0m\u001b[1;33m:\u001b[0m\u001b[1;33m\u001b[0m\u001b[1;33m\u001b[0m\u001b[0m\n\u001b[0;32m     24\u001b[0m         \u001b[1;31m# Close the database connection\u001b[0m\u001b[1;33m\u001b[0m\u001b[1;33m\u001b[0m\u001b[1;33m\u001b[0m\u001b[0m\n\u001b[1;32m---> 25\u001b[1;33m         \u001b[1;32mif\u001b[0m\u001b[1;33m(\u001b[0m\u001b[0mconnection\u001b[0m\u001b[1;33m)\u001b[0m\u001b[1;33m:\u001b[0m\u001b[1;33m\u001b[0m\u001b[1;33m\u001b[0m\u001b[0m\n\u001b[0m\u001b[0;32m     26\u001b[0m             \u001b[1;32mtry\u001b[0m\u001b[1;33m:\u001b[0m\u001b[1;33m\u001b[0m\u001b[1;33m\u001b[0m\u001b[0m\n\u001b[0;32m     27\u001b[0m                 \u001b[1;31m#cursor.close()\u001b[0m\u001b[1;33m\u001b[0m\u001b[1;33m\u001b[0m\u001b[1;33m\u001b[0m\u001b[0m\n",
      "\u001b[1;31mUnboundLocalError\u001b[0m: local variable 'connection' referenced before assignment"
     ]
    }
   ],
   "source": [
    "# Get all the general DTS file pathes saved in PostgreSQL \n",
    "df_DTSPathes = ReadAllGeneralDTSPathesInPostgre.generalDTSPathes()"
   ]
  },
  {
   "cell_type": "code",
   "execution_count": 160,
   "metadata": {},
   "outputs": [],
   "source": [
    "def readXSDinGeneralDTS(df_generalDTS):\n",
    "    ''' Get all the TaxonomySchema, Linkbase, FootnoteLink, Roletype classes in .xsd file.'''\n",
    "\n",
    "    for CurrentPathName in df_generalDTS['filepath']:\n",
    "        #Get the extention of the current file\n",
    "        CurrentFileName = os.path.split(CurrentPathName)[1]\n",
    "        CurrentFileExtension = os.path.splitext(CurrentPathName)[1] \n",
    "        if CurrentFileExtension == '.xsd':\n",
    "            \n",
    "            # Dataframes for TaxonomySchema, Linkbase, RoleTypes\n",
    "            df_TaxonomySchema = pd.DataFrame(columns=['filepath','TaxonomySchemaObj'])\n",
    "            df_Linkbases      = pd.DataFrame(columns=['filepath','linkbaseObj'])\n",
    "            df_RoleTypes      = pd.DataFrame(columns=['filepath','roletypeObj'])    \n",
    "        \n",
    "            try:\n",
    "                root_ElementTree = HibachiETtree.etree_parse_remove_NS(CurrentPathName)\n",
    "                if root_ElementTree != None:\n",
    "                    \n",
    "                    # List of tags for taxonomy schema, linkbase and roleType/Refs\n",
    "                    schema_tags = ['import','include','schemaRef','linkbaseRef','roleRef', 'arcroleRef']\n",
    "                    linkbase_tags = ['linkbase','schema']\n",
    "                    search_tags = schema_tags + linkbase_tags\n",
    "                    \n",
    "                    # Search elements with the tags listed above and corresponding create instances\n",
    "                    for empty_Var, search_tagName in enumerate(search_tags):\n",
    "                        for schema_ElementTree in root_ElementTree.iter(search_tagName):\n",
    "                            # Taxonomy Schema\n",
    "                            if search_tagName in schema_tags:\n",
    "                                #print(search_tagName)\n",
    "                                df_TaxonomySchema = df_TaxonomySchema.append(\\\n",
    "                                    {'filepath':CurrentPathName,\\\n",
    "                                     'TaxonomySchemaObj':HibachiXmlElement.TaxonomySchema(CurrentFileName, schema_ElementTree)}\\\n",
    "                                    ,ignore_index=True\n",
    "                                )\n",
    "                                \n",
    "                            # 5.1.2 <linkbase>\n",
    "                            elif search_tagName == 'linkbase':\n",
    "                                df_Linkbases = df_Linkbases.append(\\\n",
    "                                    {'filepath':CurrentPathName,\\\n",
    "                                     'linkbaseObj':HibachiXmlElement.Linkbase(CurrentFileName, schema_ElementTree)}\\\n",
    "                                    ,ignore_index=True\n",
    "                                )\n",
    "                                \n",
    "                            # 5.1.3 <roleType>, 5.1.4 <arcroleType>\n",
    "#                             5.1.3 Defining custom role types - the <roleType> element\n",
    "#                             The <roleType> element MUST be located among the set of nodes identified by the [XPath 1.0] path \"//xsd:schema/xsd:annotation/xsd:appinfo/*\".\n",
    "#                             The value of the @roleURI attribute identifies the @xlink:role attribute value that is being defined.\n",
    "#                             5.1.4 Defining custom arc role types - the arcroleType element\n",
    "#                             The <arcroleType> element MUST be among the set of nodes identified by the [XPath 1.0] path \"//xsd:schema/xsd:annotation/xsd:appinfo/*\".\n",
    "#                             The value of the @arcroleURI identifies the @xlink:arcrole attribute value that is being defined.\n",
    "\n",
    "                            elif search_tagName == 'schema':\n",
    "                                for annotation_ElementTree in schema_ElementTree.findall('annotation'):\n",
    "                                    for appinfo_ElementTree in annotation_ElementTree.findall('appinfo'):\n",
    "                                        \n",
    "                                        roleType_Tags = ['roleType','arcroleType']\n",
    "                                        for empty_Var, temp_tagName in enumerate(roleType_Tags):\n",
    "                                            for temp_roleType_ElementTree in appinfo_ElementTree.findall(temp_tagName): #\n",
    "                                                df_RoleTypes = df_RoleTypes.append(\\\n",
    "                                                    {'filepath':CurrentPathName,\\\n",
    "                                                     'roletypeObj':HibachiXmlElement.Roletype(CurrentFileName, temp_roleType_ElementTree)}\\\n",
    "                                                    ,ignore_index=True\n",
    "                                                )\n",
    "                                                \n",
    "                                        roleRef_Tags = ['roleRef', 'arcroleRef']\n",
    "                                        for empty_Var, temp_tagName in enumerate(roleRef_Tags):\n",
    "                                            for temp_roleRef_ElementTree in appinfo_ElementTree.findall(temp_tagName): #\n",
    "                                                df_TaxonomySchema = df_TaxonomySchema.append(\\\n",
    "                                                    {'filepath':CurrentPathName,\\\n",
    "                                                     'TaxonomySchemaObj':HibachiXmlElement.TaxonomySchema(CurrentFileName, schema_ElementTree)}\\\n",
    "                                                    ,ignore_index=True\n",
    "                                                )\n",
    "                                        \n",
    "                else:\n",
    "                    print('No root element')\n",
    "\n",
    "            except:\n",
    "                print ('Error in reading:', CurrentPathName, sys.exc_info()[0], sys.exc_info()[1])\n",
    "    return df_TaxonomySchema, df_Linkbases, df_RoleTypes"
   ]
  },
  {
   "cell_type": "code",
   "execution_count": 161,
   "metadata": {},
   "outputs": [],
   "source": [
    "# Run the function\n",
    "df_Taxonomy, df_Linkbase, df_RoleType = readXSDinGeneralDTS(df_generalDTS=df_DTSPathes)"
   ]
  },
  {
   "cell_type": "code",
   "execution_count": 117,
   "metadata": {},
   "outputs": [],
   "source": [
    "# Unfold the Taxonomy Schema instace to Series and put it into dataframe\n",
    "# Concate the unfolded dataframe to the original dataframe\n",
    "#df_Taxonomy = pd.concat([df_Taxonomy.drop(['TaxonomySchemaObj'], axis=1), df_TaxonomySchema], axis=1)\n",
    "df_Taxonomy = df_Taxonomy['TaxonomySchemaObj'].apply(lambda x: pd.Series(x.__dict__))\n",
    "df_RoleType = df_RoleType['roletypeObj'].apply(lambda x: pd.Series(x.__dict__))"
   ]
  },
  {
   "cell_type": "code",
   "execution_count": 119,
   "metadata": {
    "collapsed": true
   },
   "outputs": [
    {
     "name": "stdout",
     "output_type": "stream",
     "text": [
      "Error: <class 'sqlalchemy.exc.ProgrammingError'> (psycopg2.ProgrammingError) can't adapt type 'dict'\n",
      "[SQL: INSERT INTO roletype_generaldts (tag, id, type, role, arcrole, base, originalpath, fragment_id, href_type, searchablepath, \"roleURI\", \"arcroleURI\", \"cyclesAllowed\", \"childElementDict\") VALUES (%(tag)s, %(id)s, %(type)s, %(role)s, %(arcrole)s, %(base)s, %(originalpath)s, %(fragment_id)s, %(href_type)s, %(searchablepath)s, %(roleURI)s, %(arcroleURI)s, %(cyclesAllowed)s, %(childElementDict)s)]\n",
      "[parameters: ({'tag': 'roleType', 'id': 'rol_std_CabinetOfficeOrdinanceOnDisclosureOfCorporateInformationEtcFormNo2SecuritiesRegistrationStatement', 'type': None, 'role': None, 'arcrole': None, 'base': None, 'originalpath': None, 'fragment_id': None, 'href_type': 'No href', 'searchablepath': None, 'roleURI': 'http://disclosure.edinet-fsa.go.jp/role/jpcrp/rol_std_CabinetOfficeOrdinanceOnDisclosureOfCorporateInformationEtcFormNo2SecuritiesRegistrationStatement', 'arcroleURI': None, 'cyclesAllowed': None, 'childElementDict': {'definition': '企業内容等の開示に関する内閣府令 第二号様式 有価証券届出書', 'usedOn': None}}, {'tag': 'roleType', 'id': 'rol_std_CabinetOfficeOrdinanceOnDisclosureOfCorporateInformationEtcFormNo22SecuritiesRegistrationStatement', 'type': None, 'role': None, 'arcrole': None, 'base': None, 'originalpath': None, 'fragment_id': None, 'href_type': 'No href', 'searchablepath': None, 'roleURI': 'http://disclosure.edinet-fsa.go.jp/role/jpcrp/rol_std_CabinetOfficeOrdinanceOnDisclosureOfCorporateInformationEtcFormNo22SecuritiesRegistrationStatement', 'arcroleURI': None, 'cyclesAllowed': None, 'childElementDict': {'definition': '企業内容等の開示に関する内閣府令 第二号の二様式 有価証券届出書', 'usedOn': None}}, {'tag': 'roleType', 'id': 'rol_std_CabinetOfficeOrdinanceOnDisclosureOfCorporateInformationEtcFormNo23SecuritiesRegistrationStatement', 'type': None, 'role': None, 'arcrole': None, 'base': None, 'originalpath': None, 'fragment_id': None, 'href_type': 'No href', 'searchablepath': None, 'roleURI': 'http://disclosure.edinet-fsa.go.jp/role/jpcrp/rol_std_CabinetOfficeOrdinanceOnDisclosureOfCorporateInformationEtcFormNo23SecuritiesRegistrationStatement', 'arcroleURI': None, 'cyclesAllowed': None, 'childElementDict': {'definition': '企業内容等の開示に関する内閣府令 第二号の三様式 有価証券届出書', 'usedOn': None}}, {'tag': 'roleType', 'id': 'rol_std_CabinetOfficeOrdinanceOnDisclosureOfCorporateInformationEtcFormNo24SecuritiesRegistrationStatement', 'type': None, 'role': None, 'arcrole': None, 'base': None, 'originalpath': None, 'fragment_id': None, 'href_type': 'No href', 'searchablepath': None, 'roleURI': 'http://disclosure.edinet-fsa.go.jp/role/jpcrp/rol_std_CabinetOfficeOrdinanceOnDisclosureOfCorporateInformationEtcFormNo24SecuritiesRegistrationStatement', 'arcroleURI': None, 'cyclesAllowed': None, 'childElementDict': {'definition': '企業内容等の開示に関する内閣府令 第二号の四様式 有価証券届出書', 'usedOn': None}}, {'tag': 'roleType', 'id': 'rol_std_CabinetOfficeOrdinanceOnDisclosureOfCorporateInformationEtcFormNo25SecuritiesRegistrationStatement', 'type': None, 'role': None, 'arcrole': None, 'base': None, 'originalpath': None, 'fragment_id': None, 'href_type': 'No href', 'searchablepath': None, 'roleURI': 'http://disclosure.edinet-fsa.go.jp/role/jpcrp/rol_std_CabinetOfficeOrdinanceOnDisclosureOfCorporateInformationEtcFormNo25SecuritiesRegistrationStatement', 'arcroleURI': None, 'cyclesAllowed': None, 'childElementDict': {'definition': '企業内容等の開示に関する内閣府令 第二号の五様式 有価証券届出書', 'usedOn': None}}, {'tag': 'roleType', 'id': 'rol_std_CabinetOfficeOrdinanceOnDisclosureOfCorporateInformationEtcFormNo26SecuritiesRegistrationStatement', 'type': None, 'role': None, 'arcrole': None, 'base': None, 'originalpath': None, 'fragment_id': None, 'href_type': 'No href', 'searchablepath': None, 'roleURI': 'http://disclosure.edinet-fsa.go.jp/role/jpcrp/rol_std_CabinetOfficeOrdinanceOnDisclosureOfCorporateInformationEtcFormNo26SecuritiesRegistrationStatement', 'arcroleURI': None, 'cyclesAllowed': None, 'childElementDict': {'definition': '企業内容等の開示に関する内閣府令 第二号の六様式 有価証券届出書', 'usedOn': None}}, {'tag': 'roleType', 'id': 'rol_std_CabinetOfficeOrdinanceOnDisclosureOfCorporateInformationEtcFormNo27SecuritiesRegistrationStatement', 'type': None, 'role': None, 'arcrole': None, 'base': None, 'originalpath': None, 'fragment_id': None, 'href_type': 'No href', 'searchablepath': None, 'roleURI': 'http://disclosure.edinet-fsa.go.jp/role/jpcrp/rol_std_CabinetOfficeOrdinanceOnDisclosureOfCorporateInformationEtcFormNo27SecuritiesRegistrationStatement', 'arcroleURI': None, 'cyclesAllowed': None, 'childElementDict': {'definition': '企業内容等の開示に関する内閣府令 第二号の七様式 有価証券届出書', 'usedOn': None}}, {'tag': 'roleType', 'id': 'rol_std_CabinetOfficeOrdinanceOnDisclosureOfCorporateInformationEtcFormNo3AnnualSecuritiesReport', 'type': None, 'role': None, 'arcrole': None, 'base': None, 'originalpath': None, 'fragment_id': None, 'href_type': 'No href', 'searchablepath': None, 'roleURI': 'http://disclosure.edinet-fsa.go.jp/role/jpcrp/rol_std_CabinetOfficeOrdinanceOnDisclosureOfCorporateInformationEtcFormNo3AnnualSecuritiesReport', 'arcroleURI': None, 'cyclesAllowed': None, 'childElementDict': {'definition': '企業内容等の開示に関する内閣府令 第三号様式 有価証券報告書', 'usedOn': None}}  ... displaying 10 of 9326 total bound parameter sets ...  {'tag': 'roleType', 'id': 'rol_CabinetOfficeOrdinanceOnDisclosureOfTenderOfferForShareCertificatesEtcByThoseOtherThanIssuerFormNo5WrittenWithdrawalOfTenderOffer', 'type': None, 'role': None, 'arcrole': None, 'base': None, 'originalpath': None, 'fragment_id': None, 'href_type': 'No href', 'searchablepath': None, 'roleURI': 'http://disclosure.edinet-fsa.go.jp/role/jptoo-wto/rol_CabinetOfficeOrdinanceOnDisclosureOfTenderOfferForShareCertificatesEtcByThoseOtherThanIssuerFormNo5WrittenWithdrawalOfTenderOffer', 'arcroleURI': None, 'cyclesAllowed': None, 'childElementDict': {'definition': '発行者以外の者による株券等の公開買付けの開示に関する内閣府令 第五号様式 公開買付撤回届出書', 'usedOn': None}}, {'tag': 'roleType', 'id': 'rol_CoverPage', 'type': None, 'role': None, 'arcrole': None, 'base': None, 'originalpath': None, 'fragment_id': None, 'href_type': 'No href', 'searchablepath': None, 'roleURI': 'http://disclosure.edinet-fsa.go.jp/role/jptoo-wto/rol_CoverPage', 'arcroleURI': None, 'cyclesAllowed': None, 'childElementDict': {'definition': '表紙', 'usedOn': None}})]\n",
      "(Background on this error at: http://sqlalche.me/e/13/f405)\n"
     ]
    }
   ],
   "source": [
    "# Save the dataframe containing general DTS to PostgreSQL\n",
    "\n",
    "# Connect to PostgreSQL\n",
    "from sqlalchemy import create_engine\n",
    "from config import config\n",
    "\n",
    "try:\n",
    "    params = config()\n",
    "    engine = create_engine('postgresql://{user}:{password}@{host}:{port}/{database}'.format(**params))\n",
    "\n",
    "    # Save the dataframe to PostgreSQL (make sure to type table names in lower cases)\n",
    "    df_Taxonomy.to_sql('taxonomyschema_generaldts', con=engine, if_exists='replace', index=False)\n",
    "    #df_RoleType.to_sql('roletype_generaldts', con=engine, if_exists='replace', index=False)\n",
    "except:\n",
    "    print ('Error:', sys.exc_info()[0], sys.exc_info()[1])"
   ]
  }
 ],
 "metadata": {
  "kernelspec": {
   "display_name": "Python 3",
   "language": "python",
   "name": "python3"
  },
  "language_info": {
   "codemirror_mode": {
    "name": "ipython",
    "version": 3
   },
   "file_extension": ".py",
   "mimetype": "text/x-python",
   "name": "python",
   "nbconvert_exporter": "python",
   "pygments_lexer": "ipython3",
   "version": "3.8.6"
  }
 },
 "nbformat": 4,
 "nbformat_minor": 4
}
