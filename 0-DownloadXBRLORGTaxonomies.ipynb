{
 "cells": [
  {
   "cell_type": "code",
   "execution_count": 1,
   "metadata": {},
   "outputs": [],
   "source": [
    "# -*- coding: utf-8 -*-\n",
    "# Pull all the file pathes from PotgreSQL\n",
    "from config import config\n",
    "import psycopg2 # Connector to Postgres\n",
    "import pandas as pd\n",
    "\n",
    "# Create the conenction and select all the file pathes\n",
    "def xbrlorgTaxonomyPathes():\n",
    "    try:\n",
    "        # read connection parameters\n",
    "        params = config()\n",
    "\n",
    "        # connect to the PostgreSQL server\n",
    "        print('Connecting to the PostgreSQL database...')\n",
    "        connection = psycopg2.connect(**params)\n",
    "        \n",
    "        sqlquery = \"SELECT DISTINCT originalpath, searchablepath\\\n",
    "                   FROM TaxonomySchema_generalDTS\\\n",
    "                   WHERE href_type = 'XBRLORG';\"\n",
    "        return pd.read_sql_query(sqlquery, connection)\n",
    "        \n",
    "    except (Exception, psycopg2.Error) as error:\n",
    "        raise(error)\n",
    "        \n",
    "    finally:\n",
    "        # Close the database connection\n",
    "        if(connection):\n",
    "            try:\n",
    "                #cursor.close()\n",
    "                connection.close()\n",
    "                print(\"Connection is closed.\")\n",
    "            except (Exception, psycopg2.Error) as error:\n",
    "                raise(error)      "
   ]
  },
  {
   "cell_type": "code",
   "execution_count": 2,
   "metadata": {},
   "outputs": [
    {
     "name": "stdout",
     "output_type": "stream",
     "text": [
      "Connecting to the PostgreSQL database...\n",
      "Connection is closed.\n"
     ]
    }
   ],
   "source": [
    "xbrlorgpathes = xbrlorgTaxonomyPathes()[['originalpath','searchablepath']]"
   ]
  },
  {
   "cell_type": "code",
   "execution_count": 3,
   "metadata": {
    "scrolled": true
   },
   "outputs": [
    {
     "data": {
      "text/html": [
       "<div>\n",
       "<style scoped>\n",
       "    .dataframe tbody tr th:only-of-type {\n",
       "        vertical-align: middle;\n",
       "    }\n",
       "\n",
       "    .dataframe tbody tr th {\n",
       "        vertical-align: top;\n",
       "    }\n",
       "\n",
       "    .dataframe thead th {\n",
       "        text-align: right;\n",
       "    }\n",
       "</style>\n",
       "<table border=\"1\" class=\"dataframe\">\n",
       "  <thead>\n",
       "    <tr style=\"text-align: right;\">\n",
       "      <th></th>\n",
       "      <th>originalpath</th>\n",
       "      <th>searchablepath</th>\n",
       "    </tr>\n",
       "  </thead>\n",
       "  <tbody>\n",
       "    <tr>\n",
       "      <th>0</th>\n",
       "      <td>http://www.xbrl.org/2003/xbrl-instance-2003-12...</td>\n",
       "      <td>2003/xbrl-instance-2003-12-31.xsd</td>\n",
       "    </tr>\n",
       "    <tr>\n",
       "      <th>1</th>\n",
       "      <td>http://www.xbrl.org/2003/xbrl-linkbase-2003-12...</td>\n",
       "      <td>2003/xbrl-linkbase-2003-12-31.xsd</td>\n",
       "    </tr>\n",
       "    <tr>\n",
       "      <th>2</th>\n",
       "      <td>http://www.xbrl.org/2005/xbrldt-2005.xsd</td>\n",
       "      <td>2005/xbrldt-2005.xsd</td>\n",
       "    </tr>\n",
       "    <tr>\n",
       "      <th>3</th>\n",
       "      <td>http://www.xbrl.org/2006/ref-2006-02-27.xsd</td>\n",
       "      <td>2006/ref-2006-02-27.xsd</td>\n",
       "    </tr>\n",
       "    <tr>\n",
       "      <th>4</th>\n",
       "      <td>http://www.xbrl.org/dtr/type/nonNumeric-2009-1...</td>\n",
       "      <td>dtr/type/nonNumeric-2009-12-16.xsd</td>\n",
       "    </tr>\n",
       "    <tr>\n",
       "      <th>5</th>\n",
       "      <td>http://www.xbrl.org/dtr/type/numeric-2009-12-1...</td>\n",
       "      <td>dtr/type/numeric-2009-12-16.xsd</td>\n",
       "    </tr>\n",
       "    <tr>\n",
       "      <th>6</th>\n",
       "      <td>http://www.xbrl.org/lrr/role/deprecated-2009-1...</td>\n",
       "      <td>lrr/role/deprecated-2009-12-16.xsd</td>\n",
       "    </tr>\n",
       "  </tbody>\n",
       "</table>\n",
       "</div>"
      ],
      "text/plain": [
       "                                        originalpath  \\\n",
       "0  http://www.xbrl.org/2003/xbrl-instance-2003-12...   \n",
       "1  http://www.xbrl.org/2003/xbrl-linkbase-2003-12...   \n",
       "2           http://www.xbrl.org/2005/xbrldt-2005.xsd   \n",
       "3        http://www.xbrl.org/2006/ref-2006-02-27.xsd   \n",
       "4  http://www.xbrl.org/dtr/type/nonNumeric-2009-1...   \n",
       "5  http://www.xbrl.org/dtr/type/numeric-2009-12-1...   \n",
       "6  http://www.xbrl.org/lrr/role/deprecated-2009-1...   \n",
       "\n",
       "                       searchablepath  \n",
       "0   2003/xbrl-instance-2003-12-31.xsd  \n",
       "1   2003/xbrl-linkbase-2003-12-31.xsd  \n",
       "2                2005/xbrldt-2005.xsd  \n",
       "3             2006/ref-2006-02-27.xsd  \n",
       "4  dtr/type/nonNumeric-2009-12-16.xsd  \n",
       "5     dtr/type/numeric-2009-12-16.xsd  \n",
       "6  lrr/role/deprecated-2009-12-16.xsd  "
      ]
     },
     "execution_count": 3,
     "metadata": {},
     "output_type": "execute_result"
    }
   ],
   "source": [
    "xbrlorgpathes"
   ]
  },
  {
   "cell_type": "code",
   "execution_count": 7,
   "metadata": {},
   "outputs": [
    {
     "name": "stdout",
     "output_type": "stream",
     "text": [
      "C:\\Users\\kenfr\\OneDrive\\Documents\\HibachiProjects\\Hibachi_2021\\HibachiFinancials.'\n",
      "C:\\Users\\kenfr\\OneDrive\\Documents\\HibachiProjects\\Hibachi_2021\n"
     ]
    }
   ],
   "source": [
    "import os\n",
    "# Download and save all the XBRL ORG taxonomy files\n",
    "currentWorkingDirectory = os.getcwd()\n",
    "parentOfcwd=os.path.dirname(os.getcwd())\n",
    "print(currentWorkingDirectory+'.\\'')\n",
    "print(parentOfcwd)"
   ]
  },
  {
   "cell_type": "code",
   "execution_count": 4,
   "metadata": {},
   "outputs": [
    {
     "name": "stdout",
     "output_type": "stream",
     "text": [
      "Downloading and Saving:  http://www.xbrl.org/2003/xbrl-instance-2003-12-31.xsd\n",
      "Downloading and Saving:  http://www.xbrl.org/2003/xbrl-linkbase-2003-12-31.xsd\n",
      "Downloading and Saving:  http://www.xbrl.org/2005/xbrldt-2005.xsd\n",
      "Downloading and Saving:  http://www.xbrl.org/2006/ref-2006-02-27.xsd\n",
      "Downloading and Saving:  http://www.xbrl.org/dtr/type/nonNumeric-2009-12-16.xsd\n",
      "Downloading and Saving:  http://www.xbrl.org/dtr/type/numeric-2009-12-16.xsd\n",
      "Downloading and Saving:  http://www.xbrl.org/lrr/role/deprecated-2009-12-16.xsd\n"
     ]
    }
   ],
   "source": [
    "import urllib.request\n",
    "import os\n",
    "# Download and save all the XBRL ORG taxonomy files\n",
    "# currentWorkingDirectory = os.getcwd()\n",
    "parentOfcwd = os.path.dirname(os.getcwd())\n",
    "for url, searchablepath in zip(xbrlorgpathes['originalpath'],xbrlorgpathes['searchablepath']):\n",
    "    # Add xbrlorg directory because that is where this program downloads the files to\n",
    "    searchablepath = \"xbrlorg/\"+ searchablepath\n",
    "    # Create the directory if the directory does not exist \n",
    "    if not os.path.exists(\"/\".join(searchablepath.split('/')[:-1])):\n",
    "        os.makedirs(\"/\".join(searchablepath.split('/')[:-1]))\n",
    "    urllib.request.urlretrieve(url, parentOfcwd + searchablepath)\n",
    "    print('Downloading and Saving: ',url)\n",
    "print('Process Ended.')"
   ]
  }
 ],
 "metadata": {
  "kernelspec": {
   "display_name": "Python 3",
   "language": "python",
   "name": "python3"
  },
  "language_info": {
   "codemirror_mode": {
    "name": "ipython",
    "version": 3
   },
   "file_extension": ".py",
   "mimetype": "text/x-python",
   "name": "python",
   "nbconvert_exporter": "python",
   "pygments_lexer": "ipython3",
   "version": "3.8.6"
  }
 },
 "nbformat": 4,
 "nbformat_minor": 4
}
