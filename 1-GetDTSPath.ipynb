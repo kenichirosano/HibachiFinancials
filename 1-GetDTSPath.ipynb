{
 "cells": [
  {
   "cell_type": "code",
   "execution_count": 1,
   "metadata": {},
   "outputs": [
    {
     "data": {
      "text/html": [
       "<div>\n",
       "<style scoped>\n",
       "    .dataframe tbody tr th:only-of-type {\n",
       "        vertical-align: middle;\n",
       "    }\n",
       "\n",
       "    .dataframe tbody tr th {\n",
       "        vertical-align: top;\n",
       "    }\n",
       "\n",
       "    .dataframe thead th {\n",
       "        text-align: right;\n",
       "    }\n",
       "</style>\n",
       "<table border=\"1\" class=\"dataframe\">\n",
       "  <thead>\n",
       "    <tr style=\"text-align: right;\">\n",
       "      <th></th>\n",
       "      <th>filepath</th>\n",
       "    </tr>\n",
       "  </thead>\n",
       "  <tbody>\n",
       "  </tbody>\n",
       "</table>\n",
       "</div>"
      ],
      "text/plain": [
       "Empty DataFrame\n",
       "Columns: [filepath]\n",
       "Index: []"
      ]
     },
     "execution_count": 1,
     "metadata": {},
     "output_type": "execute_result"
    }
   ],
   "source": [
    "# Get all the file pathes for Document Taxonomy Set, DTS\n",
    "# And save the path in PostgreSQL\n",
    "import os\n",
    "import pandas as pd\n",
    "\n",
    "# Get the current path\n",
    "currentPath = os.getcwdb()\n",
    "filepathlist = []\n",
    "\n",
    "for root, dirnames, filenamelists in os.walk('EdinetGeneraltaxonomy'):\n",
    "    for file in filenamelists:\n",
    "        if file != '.DS_Store':\n",
    "            filepathlist.append(root+'/'+file)\n",
    "\n",
    "# Dataframe from file path list\n",
    "df = pd.DataFrame(filepathlist,columns=['filepath'])\n",
    "df"
   ]
  },
  {
   "cell_type": "code",
   "execution_count": 4,
   "metadata": {},
   "outputs": [],
   "source": [
    "# Save the dataframe containing general DTS to PostgreSQL\n",
    "\n",
    "# Connect to PostgreSQL\n",
    "from sqlalchemy import create_engine\n",
    "from config import config\n",
    "\n",
    "params = config()\n",
    "engine = create_engine('postgresql://{user}:{password}@{host}:{port}/{database}'.format(**params))\n",
    "\n",
    "# Save the dataframe to PostgreSQL (make sure to type table names in lower cases)\n",
    "df.to_sql('filelist_dts', con=engine, if_exists='replace', index=False)"
   ]
  }
 ],
 "metadata": {
  "kernelspec": {
   "display_name": "Python 3",
   "language": "python",
   "name": "python3"
  },
  "language_info": {
   "codemirror_mode": {
    "name": "ipython",
    "version": 3
   },
   "file_extension": ".py",
   "mimetype": "text/x-python",
   "name": "python",
   "nbconvert_exporter": "python",
   "pygments_lexer": "ipython3",
   "version": "3.8.6"
  }
 },
 "nbformat": 4,
 "nbformat_minor": 4
}
