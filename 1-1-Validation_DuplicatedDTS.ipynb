{
 "cells": [
  {
   "cell_type": "code",
   "execution_count": 1,
   "metadata": {},
   "outputs": [
    {
     "name": "stdout",
     "output_type": "stream",
     "text": [
      "Connecting to the PostgreSQL database...\n",
      "Connection is closed.\n"
     ]
    }
   ],
   "source": [
    "# For getting file general DTS pathes\n",
    "from hibachiPostgreSQL import ReadAllGeneralDTSPathesInPostgre \n",
    "import pandas as pd\n",
    "# Get all the general DTS file pathes saved in PostgreSQL \n",
    "df_DTSPathes = ReadAllGeneralDTSPathesInPostgre.generalDTSPathes()"
   ]
  },
  {
   "cell_type": "code",
   "execution_count": 2,
   "metadata": {},
   "outputs": [],
   "source": [
    "# To verify if there are duplicated files,\n",
    "# Separate the file name from the path and put it into dataframe\n",
    "import os \n",
    "df_DTSPathes['filename'] = df_DTSPathes['filepath'].apply(lambda x: os.path.split(x)[1])"
   ]
  },
  {
   "cell_type": "code",
   "execution_count": 3,
   "metadata": {},
   "outputs": [
    {
     "data": {
      "text/html": [
       "<div>\n",
       "<style scoped>\n",
       "    .dataframe tbody tr th:only-of-type {\n",
       "        vertical-align: middle;\n",
       "    }\n",
       "\n",
       "    .dataframe tbody tr th {\n",
       "        vertical-align: top;\n",
       "    }\n",
       "\n",
       "    .dataframe thead th {\n",
       "        text-align: right;\n",
       "    }\n",
       "</style>\n",
       "<table border=\"1\" class=\"dataframe\">\n",
       "  <thead>\n",
       "    <tr style=\"text-align: right;\">\n",
       "      <th></th>\n",
       "      <th>filepath</th>\n",
       "      <th>filename</th>\n",
       "    </tr>\n",
       "  </thead>\n",
       "  <tbody>\n",
       "    <tr>\n",
       "      <th>0</th>\n",
       "      <td>EdinetGeneraltaxonomy\\common\\2013-08-31/identi...</td>\n",
       "      <td>identificationAndOrdering_2013-08-31.xsd</td>\n",
       "    </tr>\n",
       "    <tr>\n",
       "      <th>1</th>\n",
       "      <td>EdinetGeneraltaxonomy\\jpcrp\\2013-08-31/jpcrp_c...</td>\n",
       "      <td>jpcrp_cor_2013-08-31.xsd</td>\n",
       "    </tr>\n",
       "    <tr>\n",
       "      <th>2</th>\n",
       "      <td>EdinetGeneraltaxonomy\\jpcrp\\2013-08-31/jpcrp_r...</td>\n",
       "      <td>jpcrp_rt_2013-08-31.xsd</td>\n",
       "    </tr>\n",
       "    <tr>\n",
       "      <th>3</th>\n",
       "      <td>EdinetGeneraltaxonomy\\jpcrp\\2013-08-31\\label/j...</td>\n",
       "      <td>jpcrp_2013-08-31_gla.xml</td>\n",
       "    </tr>\n",
       "    <tr>\n",
       "      <th>4</th>\n",
       "      <td>EdinetGeneraltaxonomy\\jpcrp\\2013-08-31\\label/j...</td>\n",
       "      <td>jpcrp_2013-08-31_lab-en.xml</td>\n",
       "    </tr>\n",
       "  </tbody>\n",
       "</table>\n",
       "</div>"
      ],
      "text/plain": [
       "                                            filepath  \\\n",
       "0  EdinetGeneraltaxonomy\\common\\2013-08-31/identi...   \n",
       "1  EdinetGeneraltaxonomy\\jpcrp\\2013-08-31/jpcrp_c...   \n",
       "2  EdinetGeneraltaxonomy\\jpcrp\\2013-08-31/jpcrp_r...   \n",
       "3  EdinetGeneraltaxonomy\\jpcrp\\2013-08-31\\label/j...   \n",
       "4  EdinetGeneraltaxonomy\\jpcrp\\2013-08-31\\label/j...   \n",
       "\n",
       "                                   filename  \n",
       "0  identificationAndOrdering_2013-08-31.xsd  \n",
       "1                  jpcrp_cor_2013-08-31.xsd  \n",
       "2                   jpcrp_rt_2013-08-31.xsd  \n",
       "3                  jpcrp_2013-08-31_gla.xml  \n",
       "4               jpcrp_2013-08-31_lab-en.xml  "
      ]
     },
     "execution_count": 3,
     "metadata": {},
     "output_type": "execute_result"
    }
   ],
   "source": [
    "df_DTSPathes.head()"
   ]
  },
  {
   "cell_type": "code",
   "execution_count": 4,
   "metadata": {},
   "outputs": [],
   "source": [
    "# List all the pathes with the same file names\n",
    "df_duplicatedDTS=df_DTSPathes[(df_DTSPathes.duplicated(subset=['filename'])) == True]"
   ]
  },
  {
   "cell_type": "code",
   "execution_count": 5,
   "metadata": {},
   "outputs": [
    {
     "name": "stdout",
     "output_type": "stream",
     "text": [
      "Following files have the same file names.\n"
     ]
    },
    {
     "data": {
      "text/html": [
       "<div>\n",
       "<style scoped>\n",
       "    .dataframe tbody tr th:only-of-type {\n",
       "        vertical-align: middle;\n",
       "    }\n",
       "\n",
       "    .dataframe tbody tr th {\n",
       "        vertical-align: top;\n",
       "    }\n",
       "\n",
       "    .dataframe thead th {\n",
       "        text-align: right;\n",
       "    }\n",
       "</style>\n",
       "<table border=\"1\" class=\"dataframe\">\n",
       "  <thead>\n",
       "    <tr style=\"text-align: right;\">\n",
       "      <th></th>\n",
       "      <th>filepath</th>\n",
       "      <th>filename</th>\n",
       "    </tr>\n",
       "  </thead>\n",
       "  <tbody>\n",
       "    <tr>\n",
       "      <th>10026</th>\n",
       "      <td>EdinetGeneraltaxonomy\\jppfs\\2015-03-31/jppfs_p...</td>\n",
       "      <td>jppfs_pe_2012.xsd</td>\n",
       "    </tr>\n",
       "    <tr>\n",
       "      <th>12131</th>\n",
       "      <td>EdinetGeneraltaxonomy\\jppfs\\2016-02-29/jppfs_p...</td>\n",
       "      <td>jppfs_pe_2012.xsd</td>\n",
       "    </tr>\n",
       "    <tr>\n",
       "      <th>14238</th>\n",
       "      <td>EdinetGeneraltaxonomy\\jppfs\\2017-02-28/jppfs_p...</td>\n",
       "      <td>jppfs_pe_2012.xsd</td>\n",
       "    </tr>\n",
       "    <tr>\n",
       "      <th>16343</th>\n",
       "      <td>EdinetGeneraltaxonomy\\jppfs\\2018-02-28/jppfs_p...</td>\n",
       "      <td>jppfs_pe_2012.xsd</td>\n",
       "    </tr>\n",
       "    <tr>\n",
       "      <th>18449</th>\n",
       "      <td>EdinetGeneraltaxonomy\\jppfs\\2019-02-28/jppfs_p...</td>\n",
       "      <td>jppfs_pe_2012.xsd</td>\n",
       "    </tr>\n",
       "    <tr>\n",
       "      <th>20555</th>\n",
       "      <td>EdinetGeneraltaxonomy\\jppfs\\2019-11-01/jppfs_p...</td>\n",
       "      <td>jppfs_pe_2012.xsd</td>\n",
       "    </tr>\n",
       "  </tbody>\n",
       "</table>\n",
       "</div>"
      ],
      "text/plain": [
       "                                                filepath           filename\n",
       "10026  EdinetGeneraltaxonomy\\jppfs\\2015-03-31/jppfs_p...  jppfs_pe_2012.xsd\n",
       "12131  EdinetGeneraltaxonomy\\jppfs\\2016-02-29/jppfs_p...  jppfs_pe_2012.xsd\n",
       "14238  EdinetGeneraltaxonomy\\jppfs\\2017-02-28/jppfs_p...  jppfs_pe_2012.xsd\n",
       "16343  EdinetGeneraltaxonomy\\jppfs\\2018-02-28/jppfs_p...  jppfs_pe_2012.xsd\n",
       "18449  EdinetGeneraltaxonomy\\jppfs\\2019-02-28/jppfs_p...  jppfs_pe_2012.xsd\n",
       "20555  EdinetGeneraltaxonomy\\jppfs\\2019-11-01/jppfs_p...  jppfs_pe_2012.xsd"
      ]
     },
     "execution_count": 5,
     "metadata": {},
     "output_type": "execute_result"
    }
   ],
   "source": [
    "print('Following files have the same file names.')\n",
    "df_duplicatedDTS"
   ]
  },
  {
   "cell_type": "code",
   "execution_count": 10,
   "metadata": {},
   "outputs": [
    {
     "name": "stdout",
     "output_type": "stream",
     "text": [
      "Pass: 2 files have the same contents.\n",
      "Pass: 2 files have the same contents.\n",
      "Pass: 2 files have the same contents.\n",
      "Pass: 2 files have the same contents.\n",
      "Pass: 2 files have the same contents.\n",
      "Pass: 2 files have the same contents.\n",
      "Pass: 2 files have the same contents.\n",
      "Pass: 2 files have the same contents.\n",
      "Pass: 2 files have the same contents.\n",
      "Pass: 2 files have the same contents.\n",
      "Pass: 2 files have the same contents.\n",
      "Pass: 2 files have the same contents.\n",
      "Pass: 2 files have the same contents.\n",
      "Pass: 2 files have the same contents.\n",
      "Pass: 2 files have the same contents.\n",
      "Pass: 2 files have the same contents.\n",
      "Pass: 2 files have the same contents.\n",
      "Pass: 2 files have the same contents.\n",
      "Pass: 2 files have the same contents.\n",
      "Pass: 2 files have the same contents.\n",
      "Pass: 2 files have the same contents.\n",
      "Pass: 2 files have the same contents.\n",
      "Pass: 2 files have the same contents.\n",
      "Pass: 2 files have the same contents.\n",
      "Pass: 2 files have the same contents.\n"
     ]
    }
   ],
   "source": [
    "import filecmp\n",
    "for firstIndex in range(0,df_duplicatedDTS['filename'].count()-1):\n",
    "    firstFilePath = df_duplicatedDTS.iloc[firstIndex]['filepath']\n",
    "    for secondIndex in range(0+1,df_duplicatedDTS['filename'].count()):\n",
    "        secondFilePath = df_duplicatedDTS.iloc[secondIndex]['filepath']\n",
    "        # If the file names are the same, compare the contents inside        \n",
    "        if df_duplicatedDTS.iloc[firstIndex]['filename'] == df_duplicatedDTS.iloc[secondIndex]['filename']:\n",
    "            if filecmp.cmp(firstFilePath,secondFilePath) == True:\n",
    "                print('Pass: 2 files have the same contents.')\n",
    "                #print('For:',firstFilePath,' & ',secondFilePath)\n",
    "            else:\n",
    "                print('File names are the same but the contents are different.')\n",
    "                print('For:',firstFilePath,' & ',secondFilePath)"
   ]
  },
  {
   "cell_type": "code",
   "execution_count": 11,
   "metadata": {},
   "outputs": [
    {
     "name": "stderr",
     "output_type": "stream",
     "text": [
      "<ipython-input-11-20200c00e03e>:1: SettingWithCopyWarning: \n",
      "A value is trying to be set on a copy of a slice from a DataFrame.\n",
      "Try using .loc[row_indexer,col_indexer] = value instead\n",
      "\n",
      "See the caveats in the documentation: https://pandas.pydata.org/pandas-docs/stable/user_guide/indexing.html#returning-a-view-versus-a-copy\n",
      "  df_duplicatedDTS['content']='no duplicate'\n"
     ]
    }
   ],
   "source": [
    "df_duplicatedDTS['content']='no duplicate'"
   ]
  },
  {
   "cell_type": "code",
   "execution_count": 13,
   "metadata": {},
   "outputs": [],
   "source": [
    "# Save the dataframe containing the duplicate general DTS to PostgreSQL\n",
    "# Connect to PostgreSQL\n",
    "from sqlalchemy import create_engine\n",
    "from config import config\n",
    "\n",
    "try:\n",
    "    params = config()\n",
    "    engine = create_engine('postgresql://{user}:{password}@{host}:{port}/{database}'.format(**params))\n",
    "\n",
    "    # Save the dataframe to PostgreSQL (make sure to type table names in lower cases)\n",
    "    df_duplicatedDTS.to_sql('taxonomyschema_generaldts_duplicates', con=engine, if_exists='replace', index=False)\n",
    "except:\n",
    "    print ('Error:', sys.exc_info()[0], sys.exc_info()[1])"
   ]
  }
 ],
 "metadata": {
  "kernelspec": {
   "display_name": "Python 3",
   "language": "python",
   "name": "python3"
  },
  "language_info": {
   "codemirror_mode": {
    "name": "ipython",
    "version": 3
   },
   "file_extension": ".py",
   "mimetype": "text/x-python",
   "name": "python",
   "nbconvert_exporter": "python",
   "pygments_lexer": "ipython3",
   "version": "3.8.6"
  }
 },
 "nbformat": 4,
 "nbformat_minor": 4
}
