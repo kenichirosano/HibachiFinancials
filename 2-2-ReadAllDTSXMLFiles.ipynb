{
 "cells": [
  {
   "cell_type": "code",
   "execution_count": 1,
   "metadata": {},
   "outputs": [],
   "source": [
    "# Read the general DTS and save the taxonomy schema to PostgreSQL\n",
    "from hibachiPostgreSQL import ReadAllGeneralDTSPathesInPostgre # For getting file general DTS pathes\n",
    "from hibachixbrl import HibachiXmlElement, HibachiETtree\n",
    "import pandas as pd\n",
    "import sys\n",
    "import os"
   ]
  },
  {
   "cell_type": "code",
   "execution_count": 2,
   "metadata": {},
   "outputs": [
    {
     "name": "stdout",
     "output_type": "stream",
     "text": [
      "Connecting to the PostgreSQL database...\n",
      "Connection is closed.\n"
     ]
    }
   ],
   "source": [
    "# Get all the general DTS file pathes saved in PostgreSQL \n",
    "df_DTSPathes = ReadAllGeneralDTSPathesInPostgre.generalDTSPathes()"
   ]
  },
  {
   "cell_type": "code",
   "execution_count": 3,
   "metadata": {},
   "outputs": [],
   "source": [
    "def readXMLinGeneralDTS(df_generalDTS):\n",
    "    ''' Get all the Linkbase, FootnoteLink, Roletype classes in xml file.'''\n",
    "\n",
    "    # Dataframes for TaxonomySchema, Linkbase, RoleTypes\n",
    "    df_Linkbases      = pd.DataFrame(columns=['filepath','linkbaseObj'])\n",
    "    df_RoleTypes      = pd.DataFrame(columns=['filepath','roletypeObj'])       \n",
    "    \n",
    "    for CurrentPathName in df_generalDTS['filepath']:\n",
    "        #Get the extention of the current file\n",
    "        CurrentFileName = os.path.split(CurrentPathName)[1]\n",
    "        CurrentFileExtension = os.path.splitext(CurrentPathName)[1] \n",
    "        if CurrentFileExtension == '.xml':\n",
    "            \n",
    "            try:\n",
    "                root_ElementTree = HibachiETtree.etree_parse_remove_NS(CurrentPathName)\n",
    "                if root_ElementTree != None:\n",
    "                    \n",
    "                    # List of tags for taxonomy schema, linkbase and roleType/Refs\n",
    "                    linkbase_tags = ['linkbase','schema']\n",
    "                    search_tags = linkbase_tags\n",
    "                    \n",
    "                    # Search elements with the tags listed above and corresponding create instances\n",
    "                    for empty_Var, search_tagName in enumerate(search_tags):\n",
    "                        for schema_ElementTree in root_ElementTree.iter(search_tagName):\n",
    "                            \n",
    "                            # 5.1.2 <linkbase>\n",
    "                            if search_tagName == 'linkbase':\n",
    "                                df_Linkbases = df_Linkbases.append(\\\n",
    "                                    {'filepath':CurrentPathName,\\\n",
    "                                     'linkbaseObj':HibachiXmlElement.Linkbase(CurrentFileName, schema_ElementTree)}\\\n",
    "                                    ,ignore_index=True\n",
    "                                )\n",
    "                                \n",
    "                            # 5.1.3 <roleType>, 5.1.4 <arcroleType>                     \n",
    "#                             5.1.3 Defining custom role types - the <roleType> element\n",
    "#                             The <roleType> element MUST be located among the set of nodes identified by the [XPath 1.0] path \"//xsd:schema/xsd:annotation/xsd:appinfo/*\".\n",
    "#                             The value of the @roleURI attribute identifies the @xlink:role attribute value that is being defined.\n",
    "#                             5.1.4 Defining custom arc role types - the arcroleType element\n",
    "#                             The <arcroleType> element MUST be among the set of nodes identified by the [XPath 1.0] path \"//xsd:schema/xsd:annotation/xsd:appinfo/*\".\n",
    "#                             The value of the @arcroleURI identifies the @xlink:arcrole attribute value that is being defined.\n",
    "\n",
    "                            elif search_tagName == 'schema':\n",
    "                                print('schema')\n",
    "                                for annotation_ElementTree in schema_ElementTree.findall('annotation'):\n",
    "                                    for appinfo_ElementTree in annotation_ElementTree.findall('appinfo'):\n",
    "                                        \n",
    "                                        roleType_Tags = ['roleType','arcroleType']\n",
    "                                        for empty_Var, temp_tagName in enumerate(roleType_Tags):\n",
    "                                            for temp_roleType_ElementTree in appinfo_ElementTree.findall(temp_tagName): \n",
    "                                                print(temp_tagName)\n",
    "#                                                 df_RoleTypes = df_RoleTypes.append(\\\n",
    "#                                                     {'filepath':CurrentPathName,\\\n",
    "#                                                      'roletypeObj':HibachiXmlElement.Roletype(CurrentFileName, temp_roleType_ElementTree)}\\\n",
    "#                                                     ,ignore_index=True\n",
    "#                                                 )\n",
    "                                                \n",
    "                                        roleRef_Tags = ['roleRef', 'arcroleRef']\n",
    "                                        for empty_Var, temp_tagName in enumerate(roleRef_Tags):\n",
    "                                            for temp_roleRef_ElementTree in appinfo_ElementTree.findall(temp_tagName): \n",
    "                                                print(temp_tagName)\n",
    "#                                                 df_TaxonomySchema = df_TaxonomySchema.append(\\\n",
    "#                                                     {'filepath':CurrentPathName,\\\n",
    "#                                                      'TaxonomySchemaObj':HibachiXmlElement.TaxonomySchema(CurrentFileName, schema_ElementTree)}\\\n",
    "#                                                     ,ignore_index=True\n",
    "#                                                 )\n",
    "                                        \n",
    "                else:\n",
    "                    print('No root element')\n",
    "\n",
    "            except:\n",
    "                print ('Error in reading:', CurrentPathName, sys.exc_info()[0], sys.exc_info()[1])\n",
    "    return df_Linkbases, df_RoleTypes"
   ]
  },
  {
   "cell_type": "code",
   "execution_count": 4,
   "metadata": {},
   "outputs": [],
   "source": [
    "# Run the function (this takes a while)\n",
    "df_Linkbase, df_RoleType = readXMLinGeneralDTS(df_generalDTS=df_DTSPathes)"
   ]
  },
  {
   "cell_type": "code",
   "execution_count": 5,
   "metadata": {},
   "outputs": [],
   "source": [
    "# Unfold the dataframe to save it in SQL\n",
    "df_LinkbaseToSQL = pd.concat([df_Linkbase['filepath'],df_Linkbase['linkbaseObj'].apply(lambda x: pd.Series(x.__dict__))],axis=1)"
   ]
  },
  {
   "cell_type": "code",
   "execution_count": 124,
   "metadata": {
    "scrolled": false
   },
   "outputs": [],
   "source": [
    "#Add a column containing assined index\n",
    "#df_LinkbaseToSQL['indexNumber']=df_LinkbaseToSQL.index"
   ]
  },
  {
   "cell_type": "code",
   "execution_count": 6,
   "metadata": {},
   "outputs": [
    {
     "data": {
      "text/plain": [
       "0                                                       []\n",
       "1        [{'tag': 'labelLink', 'type': 'extended', 'id'...\n",
       "2        [{'tag': 'labelLink', 'type': 'extended', 'id'...\n",
       "3        [{'tag': 'presentationLink', 'type': 'extended...\n",
       "4        [{'tag': 'presentationLink', 'type': 'extended...\n",
       "                               ...                        \n",
       "22871    [{'tag': 'labelLink', 'type': 'extended', 'id'...\n",
       "22872    [{'tag': 'labelLink', 'type': 'extended', 'id'...\n",
       "22873    [{'tag': 'presentationLink', 'type': 'extended...\n",
       "22874    [{'tag': 'presentationLink', 'type': 'extended...\n",
       "22875    [{'tag': 'referenceLink', 'type': 'extended', ...\n",
       "Name: childElementList, Length: 22876, dtype: object"
      ]
     },
     "execution_count": 6,
     "metadata": {},
     "output_type": "execute_result"
    }
   ],
   "source": [
    "#df_LinkbaseToSQL[df_LinkbaseToSQL['childElementList'].apply(lambda x: len(x))>1]['childElementList']\n",
    "df_LinkbaseToSQL['childElementList']"
   ]
  },
  {
   "cell_type": "code",
   "execution_count": 7,
   "metadata": {},
   "outputs": [
    {
     "data": {
      "text/html": [
       "<div>\n",
       "<style scoped>\n",
       "    .dataframe tbody tr th:only-of-type {\n",
       "        vertical-align: middle;\n",
       "    }\n",
       "\n",
       "    .dataframe tbody tr th {\n",
       "        vertical-align: top;\n",
       "    }\n",
       "\n",
       "    .dataframe thead th {\n",
       "        text-align: right;\n",
       "    }\n",
       "</style>\n",
       "<table border=\"1\" class=\"dataframe\">\n",
       "  <thead>\n",
       "    <tr style=\"text-align: right;\">\n",
       "      <th></th>\n",
       "      <th>filepath</th>\n",
       "      <th>childElementList</th>\n",
       "    </tr>\n",
       "  </thead>\n",
       "  <tbody>\n",
       "    <tr>\n",
       "      <th>0</th>\n",
       "      <td>EdinetGeneraltaxonomy\\jpcrp\\2013-08-31\\label/j...</td>\n",
       "      <td>NaN</td>\n",
       "    </tr>\n",
       "    <tr>\n",
       "      <th>1</th>\n",
       "      <td>EdinetGeneraltaxonomy\\jpcrp\\2013-08-31\\label/j...</td>\n",
       "      <td>{'tag': 'labelLink', 'type': 'extended', 'id':...</td>\n",
       "    </tr>\n",
       "    <tr>\n",
       "      <th>2</th>\n",
       "      <td>EdinetGeneraltaxonomy\\jpcrp\\2013-08-31\\label/j...</td>\n",
       "      <td>{'tag': 'labelLink', 'type': 'extended', 'id':...</td>\n",
       "    </tr>\n",
       "    <tr>\n",
       "      <th>3</th>\n",
       "      <td>EdinetGeneraltaxonomy\\jpcrp\\2013-08-31\\r/jpcrp...</td>\n",
       "      <td>{'tag': 'presentationLink', 'type': 'extended'...</td>\n",
       "    </tr>\n",
       "    <tr>\n",
       "      <th>4</th>\n",
       "      <td>EdinetGeneraltaxonomy\\jpcrp\\2013-08-31\\r/jpcrp...</td>\n",
       "      <td>{'tag': 'presentationLink', 'type': 'extended'...</td>\n",
       "    </tr>\n",
       "    <tr>\n",
       "      <th>...</th>\n",
       "      <td>...</td>\n",
       "      <td>...</td>\n",
       "    </tr>\n",
       "    <tr>\n",
       "      <th>22871</th>\n",
       "      <td>EdinetGeneraltaxonomy\\jptoo-wto\\2013-08-31\\lab...</td>\n",
       "      <td>{'tag': 'labelLink', 'type': 'extended', 'id':...</td>\n",
       "    </tr>\n",
       "    <tr>\n",
       "      <th>22872</th>\n",
       "      <td>EdinetGeneraltaxonomy\\jptoo-wto\\2013-08-31\\lab...</td>\n",
       "      <td>{'tag': 'labelLink', 'type': 'extended', 'id':...</td>\n",
       "    </tr>\n",
       "    <tr>\n",
       "      <th>22873</th>\n",
       "      <td>EdinetGeneraltaxonomy\\jptoo-wto\\2013-08-31\\r/j...</td>\n",
       "      <td>{'tag': 'presentationLink', 'type': 'extended'...</td>\n",
       "    </tr>\n",
       "    <tr>\n",
       "      <th>22874</th>\n",
       "      <td>EdinetGeneraltaxonomy\\jptoo-wto\\2013-08-31\\r/j...</td>\n",
       "      <td>{'tag': 'presentationLink', 'type': 'extended'...</td>\n",
       "    </tr>\n",
       "    <tr>\n",
       "      <th>22875</th>\n",
       "      <td>EdinetGeneraltaxonomy\\jptoo-wto\\2013-08-31\\ref...</td>\n",
       "      <td>{'tag': 'referenceLink', 'type': 'extended', '...</td>\n",
       "    </tr>\n",
       "  </tbody>\n",
       "</table>\n",
       "<p>22883 rows × 2 columns</p>\n",
       "</div>"
      ],
      "text/plain": [
       "                                                filepath  \\\n",
       "0      EdinetGeneraltaxonomy\\jpcrp\\2013-08-31\\label/j...   \n",
       "1      EdinetGeneraltaxonomy\\jpcrp\\2013-08-31\\label/j...   \n",
       "2      EdinetGeneraltaxonomy\\jpcrp\\2013-08-31\\label/j...   \n",
       "3      EdinetGeneraltaxonomy\\jpcrp\\2013-08-31\\r/jpcrp...   \n",
       "4      EdinetGeneraltaxonomy\\jpcrp\\2013-08-31\\r/jpcrp...   \n",
       "...                                                  ...   \n",
       "22871  EdinetGeneraltaxonomy\\jptoo-wto\\2013-08-31\\lab...   \n",
       "22872  EdinetGeneraltaxonomy\\jptoo-wto\\2013-08-31\\lab...   \n",
       "22873  EdinetGeneraltaxonomy\\jptoo-wto\\2013-08-31\\r/j...   \n",
       "22874  EdinetGeneraltaxonomy\\jptoo-wto\\2013-08-31\\r/j...   \n",
       "22875  EdinetGeneraltaxonomy\\jptoo-wto\\2013-08-31\\ref...   \n",
       "\n",
       "                                        childElementList  \n",
       "0                                                    NaN  \n",
       "1      {'tag': 'labelLink', 'type': 'extended', 'id':...  \n",
       "2      {'tag': 'labelLink', 'type': 'extended', 'id':...  \n",
       "3      {'tag': 'presentationLink', 'type': 'extended'...  \n",
       "4      {'tag': 'presentationLink', 'type': 'extended'...  \n",
       "...                                                  ...  \n",
       "22871  {'tag': 'labelLink', 'type': 'extended', 'id':...  \n",
       "22872  {'tag': 'labelLink', 'type': 'extended', 'id':...  \n",
       "22873  {'tag': 'presentationLink', 'type': 'extended'...  \n",
       "22874  {'tag': 'presentationLink', 'type': 'extended'...  \n",
       "22875  {'tag': 'referenceLink', 'type': 'extended', '...  \n",
       "\n",
       "[22883 rows x 2 columns]"
      ]
     },
     "execution_count": 7,
     "metadata": {},
     "output_type": "execute_result"
    }
   ],
   "source": [
    "# Unfold the LinkbasetoSQL\n",
    "df_LinkbaseChildElements = df_LinkbaseToSQL.explode('childElementList')[['filepath','childElementList']]\n",
    "# Format it as dataframe\n",
    "df_LinkbaseChildElementsToSQL = pd.concat([df_LinkbaseChildElements['filepath'],df_LinkbaseChildElements['childElementList'].apply(lambda x: pd.Series(x))],axis=1)"
   ]
  },
  {
   "cell_type": "code",
   "execution_count": 68,
   "metadata": {},
   "outputs": [],
   "source": [
    "# Unfold the LinkbaseChildElementsToSQL\n",
    "df_LinkbaseGrandChildElements = df_LinkbaseChildElementsToSQL.explode('childList')[['filepath','childList']]\n",
    "# Format it as daraframe\n",
    "df_LinkbaseGrandChildElementsToSQL = pd.concat([df_LinkbaseGrandChildElements.loc[1]['filepath'],df_LinkbaseGrandChildElements.loc[1]['childList'].apply(lambda x: pd.Series(x))],axis=1)"
   ]
  },
  {
   "cell_type": "code",
   "execution_count": 71,
   "metadata": {},
   "outputs": [
    {
     "data": {
      "text/html": [
       "<div>\n",
       "<style scoped>\n",
       "    .dataframe tbody tr th:only-of-type {\n",
       "        vertical-align: middle;\n",
       "    }\n",
       "\n",
       "    .dataframe tbody tr th {\n",
       "        vertical-align: top;\n",
       "    }\n",
       "\n",
       "    .dataframe thead th {\n",
       "        text-align: right;\n",
       "    }\n",
       "</style>\n",
       "<table border=\"1\" class=\"dataframe\">\n",
       "  <thead>\n",
       "    <tr style=\"text-align: right;\">\n",
       "      <th></th>\n",
       "      <th>filepath</th>\n",
       "      <th>tag</th>\n",
       "      <th>type</th>\n",
       "      <th>role</th>\n",
       "      <th>arcrole</th>\n",
       "      <th>label</th>\n",
       "      <th>lang</th>\n",
       "      <th>from</th>\n",
       "      <th>to</th>\n",
       "      <th>preferredLabel</th>\n",
       "      <th>weight</th>\n",
       "      <th>order</th>\n",
       "      <th>originalPath</th>\n",
       "      <th>content</th>\n",
       "      <th>use</th>\n",
       "      <th>priority</th>\n",
       "      <th>fragment_ID</th>\n",
       "      <th>searchablePath</th>\n",
       "    </tr>\n",
       "  </thead>\n",
       "  <tbody>\n",
       "  </tbody>\n",
       "</table>\n",
       "</div>"
      ],
      "text/plain": [
       "Empty DataFrame\n",
       "Columns: [filepath, tag, type, role, arcrole, label, lang, from, to, preferredLabel, weight, order, originalPath, content, use, priority, fragment_ID, searchablePath]\n",
       "Index: []"
      ]
     },
     "execution_count": 71,
     "metadata": {},
     "output_type": "execute_result"
    }
   ],
   "source": [
    "df_LinkbaseGrandChildElementsToSQL[df_LinkbaseGrandChildElementsToSQL.duplicated()]\n",
    "#df_LinkbaseGrandChildElements[df_LinkbaseGrandChildElements.duplicated()]\n",
    "#[df_LinkbaseGrandChildElements.loc[1].duplicated('childList')]\n",
    "# df_LinkbaseGrandChildElementsToSQL\n",
    "#df_LinkbaseChildElementsToSQL.loc[1]['childList'][0:2]"
   ]
  }
 ],
 "metadata": {
  "kernelspec": {
   "display_name": "Python 3",
   "language": "python",
   "name": "python3"
  },
  "language_info": {
   "codemirror_mode": {
    "name": "ipython",
    "version": 3
   },
   "file_extension": ".py",
   "mimetype": "text/x-python",
   "name": "python",
   "nbconvert_exporter": "python",
   "pygments_lexer": "ipython3",
   "version": "3.8.6"
  }
 },
 "nbformat": 4,
 "nbformat_minor": 4
}
