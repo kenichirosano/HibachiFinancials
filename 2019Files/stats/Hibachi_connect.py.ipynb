{
 "cells": [
  {
   "cell_type": "code",
   "execution_count": 88,
   "metadata": {},
   "outputs": [],
   "source": [
    "# -*- coding: utf-8 -*-\n",
    "import pymysql\n",
    "import pandas"
   ]
  },
  {
   "cell_type": "code",
   "execution_count": 89,
   "metadata": {},
   "outputs": [],
   "source": [
    "connection_to_Database = pymysql.connect(\n",
    "    host        = \"localhost\"\n",
    "    ,user       = \"root\"\n",
    "    ,passwd     = \"stufsno1\"\n",
    "    ,db         = \"financials\"\n",
    "    ,use_unicode= True\n",
    "    ,charset    = \"utf8\"\n",
    ")"
   ]
  },
  {
   "cell_type": "code",
   "execution_count": 102,
   "metadata": {},
   "outputs": [],
   "source": [
    "cursor_for_SQL  = connection_to_Database.cursor()\n",
    "dataFrame = pandas.read_sql_query('SELECT * FROM Edinetcode', connection_to_Database)\n",
    "#tempQueryText   = 'SELECT * FROM Edinetcode'\n",
    "#tempQueryText   = 'SELECT * FROM Edinetcode WHERE Listed LIKE %s AND Industry LIKE %s'\n",
    "#valuesInTempQuery = ['上場', '水産・農林業']"
   ]
  },
  {
   "cell_type": "code",
   "execution_count": 107,
   "metadata": {},
   "outputs": [
    {
     "data": {
      "text/plain": [
       "(3908, 13)"
      ]
     },
     "execution_count": 107,
     "metadata": {},
     "output_type": "execute_result"
    }
   ],
   "source": [
    "rows, columns = dataFrame.shape #\n",
    "rows, columns"
   ]
  },
  {
   "cell_type": "code",
   "execution_count": 110,
   "metadata": {},
   "outputs": [
    {
     "data": {
      "text/html": [
       "<div>\n",
       "<style scoped>\n",
       "    .dataframe tbody tr th:only-of-type {\n",
       "        vertical-align: middle;\n",
       "    }\n",
       "\n",
       "    .dataframe tbody tr th {\n",
       "        vertical-align: top;\n",
       "    }\n",
       "\n",
       "    .dataframe thead th {\n",
       "        text-align: right;\n",
       "    }\n",
       "</style>\n",
       "<table border=\"1\" class=\"dataframe\">\n",
       "  <thead>\n",
       "    <tr style=\"text-align: right;\">\n",
       "      <th></th>\n",
       "      <th>edinetCode</th>\n",
       "      <th>entityType</th>\n",
       "      <th>listed</th>\n",
       "      <th>consolidated</th>\n",
       "      <th>equityAmount</th>\n",
       "      <th>fiscalEnding</th>\n",
       "      <th>name</th>\n",
       "      <th>nameEnglish</th>\n",
       "      <th>ruby</th>\n",
       "      <th>address</th>\n",
       "      <th>industry</th>\n",
       "      <th>ticker</th>\n",
       "      <th>corporateNumber</th>\n",
       "    </tr>\n",
       "  </thead>\n",
       "  <tbody>\n",
       "    <tr>\n",
       "      <th>0</th>\n",
       "      <td>E00004</td>\n",
       "      <td>内国法人・組合</td>\n",
       "      <td>上場</td>\n",
       "      <td>有</td>\n",
       "      <td>1491</td>\n",
       "      <td>5月31日</td>\n",
       "      <td>カネコ種苗株式会社</td>\n",
       "      <td>KANEKO SEEDS CO., LTD.</td>\n",
       "      <td>カネコシュビョウカブシキガイシャ</td>\n",
       "      <td>前橋市古市町一丁目５０番地１２</td>\n",
       "      <td>水産・農林業</td>\n",
       "      <td>1376</td>\n",
       "      <td>5070001000715</td>\n",
       "    </tr>\n",
       "    <tr>\n",
       "      <th>1</th>\n",
       "      <td>E00006</td>\n",
       "      <td>内国法人・組合</td>\n",
       "      <td>上場</td>\n",
       "      <td>有</td>\n",
       "      <td>13500</td>\n",
       "      <td>5月31日</td>\n",
       "      <td>株式会社　サカタのタネ</td>\n",
       "      <td>SAKATA SEED CORPORATION</td>\n",
       "      <td>カブシキガイシャ　サカタノタネ</td>\n",
       "      <td>横浜市都筑区仲町台２−７−１</td>\n",
       "      <td>水産・農林業</td>\n",
       "      <td>1377</td>\n",
       "      <td>6020001008662</td>\n",
       "    </tr>\n",
       "  </tbody>\n",
       "</table>\n",
       "</div>"
      ],
      "text/plain": [
       "  edinetCode entityType listed consolidated  equityAmount fiscalEnding  \\\n",
       "0     E00004    内国法人・組合     上場            有          1491        5月31日   \n",
       "1     E00006    内国法人・組合     上場            有         13500        5月31日   \n",
       "\n",
       "          name              nameEnglish              ruby          address  \\\n",
       "0    カネコ種苗株式会社   KANEKO SEEDS CO., LTD.  カネコシュビョウカブシキガイシャ  前橋市古市町一丁目５０番地１２   \n",
       "1  株式会社　サカタのタネ  SAKATA SEED CORPORATION   カブシキガイシャ　サカタノタネ   横浜市都筑区仲町台２−７−１   \n",
       "\n",
       "  industry  ticker corporateNumber  \n",
       "0   水産・農林業    1376   5070001000715  \n",
       "1   水産・農林業    1377   6020001008662  "
      ]
     },
     "execution_count": 110,
     "metadata": {},
     "output_type": "execute_result"
    }
   ],
   "source": [
    "dataFrame.head(2) # print only 2 rows"
   ]
  },
  {
   "cell_type": "code",
   "execution_count": 111,
   "metadata": {},
   "outputs": [
    {
     "data": {
      "text/html": [
       "<div>\n",
       "<style scoped>\n",
       "    .dataframe tbody tr th:only-of-type {\n",
       "        vertical-align: middle;\n",
       "    }\n",
       "\n",
       "    .dataframe tbody tr th {\n",
       "        vertical-align: top;\n",
       "    }\n",
       "\n",
       "    .dataframe thead th {\n",
       "        text-align: right;\n",
       "    }\n",
       "</style>\n",
       "<table border=\"1\" class=\"dataframe\">\n",
       "  <thead>\n",
       "    <tr style=\"text-align: right;\">\n",
       "      <th></th>\n",
       "      <th>edinetCode</th>\n",
       "      <th>entityType</th>\n",
       "      <th>listed</th>\n",
       "      <th>consolidated</th>\n",
       "      <th>equityAmount</th>\n",
       "      <th>fiscalEnding</th>\n",
       "      <th>name</th>\n",
       "      <th>nameEnglish</th>\n",
       "      <th>ruby</th>\n",
       "      <th>address</th>\n",
       "      <th>industry</th>\n",
       "      <th>ticker</th>\n",
       "      <th>corporateNumber</th>\n",
       "    </tr>\n",
       "  </thead>\n",
       "  <tbody>\n",
       "    <tr>\n",
       "      <th>3906</th>\n",
       "      <td>E34336</td>\n",
       "      <td>内国法人・組合</td>\n",
       "      <td>上場</td>\n",
       "      <td>有</td>\n",
       "      <td>35</td>\n",
       "      <td>10月末日</td>\n",
       "      <td>株式会社ギフト</td>\n",
       "      <td>GIFT INC.</td>\n",
       "      <td>カブシキカイシャギフト</td>\n",
       "      <td>町田市原町田六丁目２７番１９号</td>\n",
       "      <td>小売業</td>\n",
       "      <td>9279</td>\n",
       "      <td>3012301007868</td>\n",
       "    </tr>\n",
       "    <tr>\n",
       "      <th>3907</th>\n",
       "      <td>E34352</td>\n",
       "      <td>内国法人・組合</td>\n",
       "      <td>上場</td>\n",
       "      <td>有</td>\n",
       "      <td>333</td>\n",
       "      <td>9月末日</td>\n",
       "      <td>ＣＲＧホールディングス株式会社</td>\n",
       "      <td>CRG HOLDINGS.,LTD.</td>\n",
       "      <td>シーアールジーホールディングスカブシキガイシャ</td>\n",
       "      <td>新宿区西新宿２−１−１</td>\n",
       "      <td>サービス業</td>\n",
       "      <td>7041</td>\n",
       "      <td>7011101067961</td>\n",
       "    </tr>\n",
       "  </tbody>\n",
       "</table>\n",
       "</div>"
      ],
      "text/plain": [
       "     edinetCode entityType listed consolidated  equityAmount fiscalEnding  \\\n",
       "3906     E34336    内国法人・組合     上場            有            35        10月末日   \n",
       "3907     E34352    内国法人・組合     上場            有           333         9月末日   \n",
       "\n",
       "                 name         nameEnglish                     ruby  \\\n",
       "3906          株式会社ギフト           GIFT INC.              カブシキカイシャギフト   \n",
       "3907  ＣＲＧホールディングス株式会社  CRG HOLDINGS.,LTD.  シーアールジーホールディングスカブシキガイシャ   \n",
       "\n",
       "              address industry  ticker corporateNumber  \n",
       "3906  町田市原町田六丁目２７番１９号      小売業    9279   3012301007868  \n",
       "3907      新宿区西新宿２−１−１    サービス業    7041   7011101067961  "
      ]
     },
     "execution_count": 111,
     "metadata": {},
     "output_type": "execute_result"
    }
   ],
   "source": [
    "dataFrame.tail(2) # print only alst 2 rows"
   ]
  },
  {
   "cell_type": "code",
   "execution_count": 112,
   "metadata": {},
   "outputs": [
    {
     "data": {
      "text/plain": [
       "Index(['edinetCode', 'entityType', 'listed', 'consolidated', 'equityAmount',\n",
       "       'fiscalEnding', 'name', 'nameEnglish', 'ruby', 'address', 'industry',\n",
       "       'ticker', 'corporateNumber'],\n",
       "      dtype='object')"
      ]
     },
     "execution_count": 112,
     "metadata": {},
     "output_type": "execute_result"
    }
   ],
   "source": [
    "dataFrame.columns"
   ]
  },
  {
   "cell_type": "code",
   "execution_count": 123,
   "metadata": {},
   "outputs": [
    {
     "data": {
      "text/plain": [
       "array(['水産・農林業', '建設業', '卸売業', '非鉄金属', '石油・石炭製品', 'サービス業', '機械', '鉱業',\n",
       "       '金属製品', '不動産業', '情報・通信業', '食料品', '小売業', '化学', '繊維製品', '輸送用機器',\n",
       "       '証券、商品先物取引業', 'ガラス・土石製品', '電気機器', 'その他製品', 'パルプ・紙', 'その他金融業',\n",
       "       '医薬品', 'ゴム製品', '精密機器', '鉄鋼', '銀行業', '保険業', '陸運業', '倉庫・運輸関連', '海運業',\n",
       "       '空運業', '電気・ガス業'], dtype=object)"
      ]
     },
     "execution_count": 123,
     "metadata": {},
     "output_type": "execute_result"
    }
   ],
   "source": [
    "dataFrame['industry'].unique()"
   ]
  },
  {
   "cell_type": "code",
   "execution_count": null,
   "metadata": {},
   "outputs": [],
   "source": [
    "dataFrame[['edinetCode','name']]"
   ]
  },
  {
   "cell_type": "code",
   "execution_count": 127,
   "metadata": {},
   "outputs": [
    {
     "data": {
      "text/html": [
       "<div>\n",
       "<style scoped>\n",
       "    .dataframe tbody tr th:only-of-type {\n",
       "        vertical-align: middle;\n",
       "    }\n",
       "\n",
       "    .dataframe tbody tr th {\n",
       "        vertical-align: top;\n",
       "    }\n",
       "\n",
       "    .dataframe thead th {\n",
       "        text-align: right;\n",
       "    }\n",
       "</style>\n",
       "<table border=\"1\" class=\"dataframe\">\n",
       "  <thead>\n",
       "    <tr style=\"text-align: right;\">\n",
       "      <th></th>\n",
       "      <th>name</th>\n",
       "      <th>industry</th>\n",
       "    </tr>\n",
       "  </thead>\n",
       "  <tbody>\n",
       "    <tr>\n",
       "      <th>0</th>\n",
       "      <td>カネコ種苗株式会社</td>\n",
       "      <td>水産・農林業</td>\n",
       "    </tr>\n",
       "    <tr>\n",
       "      <th>1</th>\n",
       "      <td>株式会社　サカタのタネ</td>\n",
       "      <td>水産・農林業</td>\n",
       "    </tr>\n",
       "    <tr>\n",
       "      <th>2</th>\n",
       "      <td>株式会社雪国まいたけ</td>\n",
       "      <td>水産・農林業</td>\n",
       "    </tr>\n",
       "    <tr>\n",
       "      <th>3</th>\n",
       "      <td>ホクト株式会社</td>\n",
       "      <td>水産・農林業</td>\n",
       "    </tr>\n",
       "    <tr>\n",
       "      <th>4</th>\n",
       "      <td>株式会社アクシーズ</td>\n",
       "      <td>水産・農林業</td>\n",
       "    </tr>\n",
       "    <tr>\n",
       "      <th>5</th>\n",
       "      <td>株式会社ホーブ</td>\n",
       "      <td>水産・農林業</td>\n",
       "    </tr>\n",
       "    <tr>\n",
       "      <th>7</th>\n",
       "      <td>株式会社　極洋</td>\n",
       "      <td>水産・農林業</td>\n",
       "    </tr>\n",
       "    <tr>\n",
       "      <th>8</th>\n",
       "      <td>日本水産株式会社</td>\n",
       "      <td>水産・農林業</td>\n",
       "    </tr>\n",
       "    <tr>\n",
       "      <th>9</th>\n",
       "      <td>マルハニチロ株式会社</td>\n",
       "      <td>水産・農林業</td>\n",
       "    </tr>\n",
       "    <tr>\n",
       "      <th>192</th>\n",
       "      <td>株式会社秋川牧園</td>\n",
       "      <td>水産・農林業</td>\n",
       "    </tr>\n",
       "    <tr>\n",
       "      <th>3375</th>\n",
       "      <td>ベルグアース株式会社</td>\n",
       "      <td>水産・農林業</td>\n",
       "    </tr>\n",
       "  </tbody>\n",
       "</table>\n",
       "</div>"
      ],
      "text/plain": [
       "             name industry\n",
       "0       カネコ種苗株式会社   水産・農林業\n",
       "1     株式会社　サカタのタネ   水産・農林業\n",
       "2      株式会社雪国まいたけ   水産・農林業\n",
       "3         ホクト株式会社   水産・農林業\n",
       "4       株式会社アクシーズ   水産・農林業\n",
       "5         株式会社ホーブ   水産・農林業\n",
       "7         株式会社　極洋   水産・農林業\n",
       "8        日本水産株式会社   水産・農林業\n",
       "9      マルハニチロ株式会社   水産・農林業\n",
       "192      株式会社秋川牧園   水産・農林業\n",
       "3375   ベルグアース株式会社   水産・農林業"
      ]
     },
     "execution_count": 127,
     "metadata": {},
     "output_type": "execute_result"
    }
   ],
   "source": [
    "dataFrame[['name','industry']][(dataFrame.industry == '水産・農林業')]"
   ]
  },
  {
   "cell_type": "code",
   "execution_count": 80,
   "metadata": {},
   "outputs": [],
   "source": [
    "cursor_for_SQL.execute(tempQueryText)\n",
    "#cursor_for_SQL.execute(tempQueryText, valuesInTempQuery)\n",
    "resultFromQuery = cursor_for_SQL.fetchall()\n",
    "connection_to_Database.commit()"
   ]
  },
  {
   "cell_type": "code",
   "execution_count": 69,
   "metadata": {
    "scrolled": true
   },
   "outputs": [
    {
     "name": "stdout",
     "output_type": "stream",
     "text": [
      "address\n",
      "consolidated\n",
      "corporateNumber\n",
      "edinetCode\n",
      "entityType\n",
      "equityAmount\n",
      "fiscalEnding\n",
      "industry\n",
      "listed\n",
      "name\n",
      "nameEnglish\n",
      "ruby\n",
      "ticker\n"
     ]
    }
   ],
   "source": [
    "tempQueryText   = 'SELECT * FROM information_schema.columns '\\\n",
    "                + 'WHERE TABLE_NAME = \"EdinetCode\"'\n",
    "cursor_for_SQL.execute(tempQueryText)\n",
    "resultFromQuery = cursor_for_SQL.fetchall()\n",
    "connection_to_Database.commit()\n",
    "for record in resultFromQuery:\n",
    "    print(record[3])"
   ]
  },
  {
   "cell_type": "code",
   "execution_count": null,
   "metadata": {},
   "outputs": [],
   "source": []
  }
 ],
 "metadata": {
  "kernelspec": {
   "display_name": "Python 3",
   "language": "python",
   "name": "python3"
  },
  "language_info": {
   "codemirror_mode": {
    "name": "ipython",
    "version": 3
   },
   "file_extension": ".py",
   "mimetype": "text/x-python",
   "name": "python",
   "nbconvert_exporter": "python",
   "pygments_lexer": "ipython3",
   "version": "3.7.0"
  }
 },
 "nbformat": 4,
 "nbformat_minor": 2
}
