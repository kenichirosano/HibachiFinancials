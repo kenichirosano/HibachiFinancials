{
 "cells": [
  {
   "cell_type": "code",
   "execution_count": 1,
   "metadata": {},
   "outputs": [],
   "source": [
    "import os\n",
    "import sys\n",
    "import hib_connectMySQL\n",
    "import hi__EXT_ETtree       as hi_EXT_ET\n",
    "import hi_XmlElement_Class  as hi_XmlElement\n",
    "import hib_Instance         as Instance\n",
    "import hib_Unit             as Unit\n",
    "import hib_Context          as Context\n",
    "\n",
    "fileName_List_to_Read = [\n",
    "    'financials/jpcrp030000-asr-001_E00288-000_2018-03-31_01_2018-07-02.xbrl'\n",
    "]\n",
    "\n",
    "# switches\n",
    "switch_unit     = 1\n",
    "switch_context  = 0\n",
    "switch_instance = 0\n",
    "\n",
    "# Connect to MySQL\n",
    "connection_to_Database  = hib_connectMySQL.connectToMySQL()\n"
   ]
  },
  {
   "cell_type": "code",
   "execution_count": null,
   "metadata": {},
   "outputs": [],
   "source": [
    "for fileName_to_Read in fileName_List_to_Read:\n",
    "    etResult = hi_EXT_ET.etree_parse_with_NS(fileName_to_Read)"
   ]
  },
  {
   "cell_type": "code",
   "execution_count": 19,
   "metadata": {},
   "outputs": [
    {
     "data": {
      "text/plain": [
       "[<Element '{http://www.xbrl.org/2003/instance}xbrl' at 0x10674ea98>]"
      ]
     },
     "execution_count": 19,
     "metadata": {},
     "output_type": "execute_result"
    }
   ],
   "source": [
    "#etResult.findall('.')\n",
    "temp = etResult.findall('{http://www.xbrl.org/2003/instance}xbrl')\n",
    "#temp.attrib('jpdei_cor')"
   ]
  }
 ],
 "metadata": {
  "kernelspec": {
   "display_name": "Python 3",
   "language": "python",
   "name": "python3"
  },
  "language_info": {
   "codemirror_mode": {
    "name": "ipython",
    "version": 3
   },
   "file_extension": ".py",
   "mimetype": "text/x-python",
   "name": "python",
   "nbconvert_exporter": "python",
   "pygments_lexer": "ipython3",
   "version": "3.7.0"
  }
 },
 "nbformat": 4,
 "nbformat_minor": 2
}
